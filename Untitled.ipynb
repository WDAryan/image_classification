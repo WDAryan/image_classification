{
 "cells": [
  {
   "cell_type": "code",
   "execution_count": 5,
   "id": "b8c3050a-feba-4d88-bd68-b130882ab53c",
   "metadata": {},
   "outputs": [],
   "source": [
    "import numpy as np\n",
    "import pandas as pd\n",
    "import matplotlib.pyplot as plt\n",
    "import tensorflow as tf\n",
    "from tensorflow import keras\n",
    "from tensorflow.keras import layers\n"
   ]
  },
  {
   "cell_type": "code",
   "execution_count": 7,
   "id": "3e3c00f6-49e4-496f-93db-bb4353711155",
   "metadata": {},
   "outputs": [],
   "source": [
    "data_train_path = 'dataset/train'\n",
    "data_test_path = 'dataset/test'\n",
    "img_width = 180\n",
    "img_height = 180"
   ]
  },
  {
   "cell_type": "code",
   "execution_count": 11,
   "id": "0ba5d944-c0b4-402b-85e5-4282e68baf9a",
   "metadata": {},
   "outputs": [
    {
     "name": "stdout",
     "output_type": "stream",
     "text": [
      "Found 43335 files belonging to 77 classes.\n"
     ]
    }
   ],
   "source": [
    "data_train = tf.keras.utils.image_dataset_from_directory(\n",
    "    data_train_path,\n",
    "    shuffle=True,\n",
    "    image_size=(img_width, img_height),\n",
    "    batch_size=32,\n",
    "    validation_split=False\n",
    ")"
   ]
  },
  {
   "cell_type": "code",
   "execution_count": 13,
   "id": "482f1ac1-af0f-468b-83c9-dbc74f81eab1",
   "metadata": {},
   "outputs": [
    {
     "name": "stdout",
     "output_type": "stream",
     "text": [
      "Categories: ['Amaranth', 'Apple', 'Apricot', 'Asparagus', 'Avocado', 'Banana', 'Beans', 'Beetroot', 'Bell Pepper', 'Bitter Gourd', 'Black Berry', 'Black Current', 'Blueberry', 'Bottle Gourd', 'Brinjal', 'Broccoli', 'Cabbage', 'Capsicum', 'Carrot', 'Cashew', 'Cauliflower', 'Chikoo', 'Chilli', 'Coconut', 'Corn', 'Cranberry', 'Cucumber', 'Custard Apple', 'Dates', 'Dragon Fruit', 'Elderberry', 'Fig', 'Garlic', 'Ginger', 'Gooseberry', 'Grapes', 'Guava', 'Jackfruit', 'Kiwi', 'Lemon', 'Lettuce', 'Litchi', 'Longan', 'Mango', 'Mushroom', 'Muskmelon', 'Okra', 'Olive', 'Onion', 'Orange', 'Papaya', 'Passion Fruit', 'Peach', 'Pear', 'Peas', 'Pineapple', 'Plum', 'Pomegranate', 'Potato', 'Pumpkin', 'Radish', 'Rambutan', 'Raspberry', 'Ridge Gourd', 'Spinach', 'Strawberry', 'Sweet Potato', 'Tamarind', 'Taro Roots', 'Tinda', 'Tomato', 'Turnip', 'Watermelon', 'Wax Gourd', 'Wood Apple', 'Yam', 'Zucchini']\n",
      "Found 3577 files belonging to 77 classes.\n"
     ]
    }
   ],
   "source": [
    "data_cat = data_train.class_names\n",
    "print(\"Categories:\", data_cat)\n",
    "\n",
    "# Load test dataset\n",
    "data_test = tf.keras.utils.image_dataset_from_directory(\n",
    "    data_test_path,\n",
    "    image_size=(img_height, img_width),\n",
    "    shuffle=False,\n",
    "    batch_size=32,\n",
    "    validation_split=False\n",
    ")"
   ]
  },
  {
   "cell_type": "code",
   "execution_count": 15,
   "id": "911e3d0e-fe62-4ba6-ad41-4450659aafbc",
   "metadata": {},
   "outputs": [],
   "source": [
    "validation_df = pd.read_csv('validation.csv')"
   ]
  },
  {
   "cell_type": "code",
   "execution_count": 20,
   "id": "26ed8368-ecda-4bc7-a018-12af9c8ffcc4",
   "metadata": {},
   "outputs": [
    {
     "name": "stdout",
     "output_type": "stream",
     "text": [
      "Index(['Name', 'Calories (per 100g)', 'Carbohydrates (g)', 'Protein (g)',\n",
      "       'Fat (g)', 'Fiber (g)', 'Vitamin C (mg)', 'Zinc (mg)', 'Potassium (mg)',\n",
      "       'Iron (mg)', 'Calcium (mg)'],\n",
      "      dtype='object')\n"
     ]
    }
   ],
   "source": [
    "print(validation_df.columns)\n"
   ]
  },
  {
   "cell_type": "code",
   "execution_count": null,
   "id": "bf835ef0-5eea-4ec1-bc93-84731ccd2100",
   "metadata": {},
   "outputs": [],
   "source": []
  }
 ],
 "metadata": {
  "kernelspec": {
   "display_name": "Python [conda env:base] *",
   "language": "python",
   "name": "conda-base-py"
  },
  "language_info": {
   "codemirror_mode": {
    "name": "ipython",
    "version": 3
   },
   "file_extension": ".py",
   "mimetype": "text/x-python",
   "name": "python",
   "nbconvert_exporter": "python",
   "pygments_lexer": "ipython3",
   "version": "3.12.7"
  }
 },
 "nbformat": 4,
 "nbformat_minor": 5
}
